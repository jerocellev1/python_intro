{
  "nbformat": 4,
  "nbformat_minor": 0,
  "metadata": {
    "colab": {
      "provenance": [],
      "toc_visible": true,
      "authorship_tag": "ABX9TyMhJbVA4ZS9xs5ADLhjCcjG",
      "include_colab_link": true
    },
    "kernelspec": {
      "name": "python3",
      "display_name": "Python 3"
    },
    "language_info": {
      "name": "python"
    }
  },
  "cells": [
    {
      "cell_type": "markdown",
      "metadata": {
        "id": "view-in-github",
        "colab_type": "text"
      },
      "source": [
        "<a href=\"https://colab.research.google.com/github/jerocellev1/python_intro/blob/main/Intro_to_Python.ipynb\" target=\"_parent\"><img src=\"https://colab.research.google.com/assets/colab-badge.svg\" alt=\"Open In Colab\"/></a>"
      ]
    },
    {
      "cell_type": "markdown",
      "source": [
        "# BMI Calculator"
      ],
      "metadata": {
        "id": "Icm__iYTJy6q"
      }
    },
    {
      "cell_type": "code",
      "source": [
        "weight = float(input(\"Enter your weight in lbs: \"))\n",
        "height = float(input(\"Enter your height in inches: \"))\n",
        "\n",
        "bmi = (weight * 703) / (height * height)\n",
        "print('BMI:  '+ str(round(bmi,2)))"
      ],
      "metadata": {
        "colab": {
          "base_uri": "https://localhost:8080/"
        },
        "id": "0LtVrndBJwRt",
        "outputId": "f5819103-bd23-4b4a-ffcd-afca53e2302b"
      },
      "execution_count": null,
      "outputs": [
        {
          "output_type": "stream",
          "name": "stdout",
          "text": [
            "Enter your weight in lbs: 171\n",
            "Enter your height in inches: 61\n",
            "BMI: 32.31\n"
          ]
        }
      ]
    }
  ]
}